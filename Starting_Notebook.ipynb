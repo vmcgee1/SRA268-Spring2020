{
  "nbformat": 4,
  "nbformat_minor": 0,
  "metadata": {
    "colab": {
      "name": "Starting Notebook.ipynb",
      "provenance": [],
      "collapsed_sections": [],
      "toc_visible": true,
      "authorship_tag": "ABX9TyMkmtdlyUqnNifHEo3kX86t",
      "include_colab_link": true
    },
    "kernelspec": {
      "name": "python3",
      "display_name": "Python 3"
    }
  },
  "cells": [
    {
      "cell_type": "markdown",
      "metadata": {
        "id": "view-in-github",
        "colab_type": "text"
      },
      "source": [
        "<a href=\"https://colab.research.google.com/github/vmcgee1/SRA268-Spring2020/blob/master/Starting_Notebook.ipynb\" target=\"_parent\"><img src=\"https://colab.research.google.com/assets/colab-badge.svg\" alt=\"Open In Colab\"/></a>"
      ]
    },
    {
      "cell_type": "code",
      "metadata": {
        "id": "9GWPQ8_E4uIG",
        "colab_type": "code",
        "colab": {
          "base_uri": "https://localhost:8080/",
          "height": 34
        },
        "outputId": "da4814de-ce4d-4f86-d8d1-285d72613f10"
      },
      "source": [
        "2+2"
      ],
      "execution_count": 1,
      "outputs": [
        {
          "output_type": "execute_result",
          "data": {
            "text/plain": [
              "4"
            ]
          },
          "metadata": {
            "tags": []
          },
          "execution_count": 1
        }
      ]
    },
    {
      "cell_type": "markdown",
      "metadata": {
        "id": "tElbsLOt5vwq",
        "colab_type": "text"
      },
      "source": [
        "# Abstract"
      ]
    },
    {
      "cell_type": "markdown",
      "metadata": {
        "id": "_1_7z9vD51Dp",
        "colab_type": "text"
      },
      "source": [
        "somethings in the abstract"
      ]
    },
    {
      "cell_type": "markdown",
      "metadata": {
        "id": "e1lqHyWC55z2",
        "colab_type": "text"
      },
      "source": [
        "# Introduction"
      ]
    },
    {
      "cell_type": "markdown",
      "metadata": {
        "id": "B0lxwhNF58-n",
        "colab_type": "text"
      },
      "source": [
        "somethings in the introduction"
      ]
    },
    {
      "cell_type": "markdown",
      "metadata": {
        "id": "HuWRvoam6WXK",
        "colab_type": "text"
      },
      "source": [
        "![image of megaman](https://)"
      ]
    }
  ]
}