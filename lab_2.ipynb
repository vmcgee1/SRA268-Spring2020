{
  "nbformat": 4,
  "nbformat_minor": 0,
  "metadata": {
    "colab": {
      "name": "lab 2.ipynb",
      "provenance": [],
      "include_colab_link": true
    },
    "kernelspec": {
      "name": "python3",
      "display_name": "Python 3"
    }
  },
  "cells": [
    {
      "cell_type": "markdown",
      "metadata": {
        "id": "view-in-github",
        "colab_type": "text"
      },
      "source": [
        "<a href=\"https://colab.research.google.com/github/vmcgee1/SRA268-Spring2020/blob/master/lab_2.ipynb\" target=\"_parent\"><img src=\"https://colab.research.google.com/assets/colab-badge.svg\" alt=\"Open In Colab\"/></a>"
      ]
    },
    {
      "cell_type": "markdown",
      "metadata": {
        "id": "6sOc4Uyr4U-Z",
        "colab_type": "text"
      },
      "source": [
        "## Graph Types"
      ]
    },
    {
      "cell_type": "markdown",
      "metadata": {
        "id": "0zZdVLAd5CYr",
        "colab_type": "text"
      },
      "source": [
        "Creator\n",
        "* Vincent McGee"
      ]
    },
    {
      "cell_type": "markdown",
      "metadata": {
        "id": "g-r6Clq45Hn4",
        "colab_type": "text"
      },
      "source": [
        "### Deviation\n"
      ]
    },
    {
      "cell_type": "markdown",
      "metadata": {
        "id": "2gorxo6E7A0t",
        "colab_type": "text"
      },
      "source": [
        "![alt text](https://raw.githubusercontent.com/dudaspm/SRA268/master/Images/PointsPerYear.png)"
      ]
    },
    {
      "cell_type": "markdown",
      "metadata": {
        "id": "w6bZ_NEi7E3w",
        "colab_type": "text"
      },
      "source": [
        "#### What is this telling us?"
      ]
    },
    {
      "cell_type": "markdown",
      "metadata": {
        "id": "95L-spaC7QHF",
        "colab_type": "text"
      },
      "source": [
        "Lorem ipsum dolor sit amet, consectetur adipiscing elit. Nam iaculis, enim vel accumsan laoreet, mauris eros feugiat quam, sit amet tempor nibh mi id dolor. Fusce faucibus nisi magna, eu rhoncus felis pharetra non. Curabitur metus eros, eleifend sit amet vehicula et, porttitor non arcu. Suspendisse in mauris lacinia, efficitur lacus vel, eleifend est. Nullam id libero eu felis venenatis auctor quis in mi. Praesent lectus justo, vestibulum et mollis nec, elementum non risus. Vestibulum sit amet elit aliquam, ornare est vitae, dictum enim. Aliquam erat volutpat. Etiam rhoncus turpis quam. Etiam at neque vitae sem convallis suscipit ac varius."
      ]
    },
    {
      "cell_type": "markdown",
      "metadata": {
        "id": "YgXyXjmz7cDP",
        "colab_type": "text"
      },
      "source": [
        "### Correlation\n"
      ]
    },
    {
      "cell_type": "markdown",
      "metadata": {
        "id": "SGx15rZq7hvt",
        "colab_type": "text"
      },
      "source": [
        "![alt text](https://raw.githubusercontent.com/vmcgee1/SRA268-Spring2020/master/Images/2.png)"
      ]
    },
    {
      "cell_type": "markdown",
      "metadata": {
        "id": "dljjONNi7jmj",
        "colab_type": "text"
      },
      "source": [
        "#### What is this telling us?"
      ]
    },
    {
      "cell_type": "markdown",
      "metadata": {
        "id": "PwZEZrFB7laG",
        "colab_type": "text"
      },
      "source": [
        "The graph is showing the losing seeds in the count of academic years. It should increase as the more seasons, and ultimately years of NCAA basketball means the more losing seeds will be prevalent. Sometimes winning seed will tie for places as well as losing teams. This may be the reason certain academic years appear to have larger amount of losing seeds. Also, the addition of teams in time will increase the amount of winning seeds as well as losing seeds. If there were 18 teams, there would be 9 winning seeds and 9 losing seeds. An addition of 4 teams would add 2 new winning seeds and 2 new losing seeds."
      ]
    },
    {
      "cell_type": "markdown",
      "metadata": {
        "id": "MqUdI-uL7r2s",
        "colab_type": "text"
      },
      "source": [
        "### Ranking\n"
      ]
    },
    {
      "cell_type": "markdown",
      "metadata": {
        "id": "AvlxCOVt7x9F",
        "colab_type": "text"
      },
      "source": [
        "![alt text](https://raw.githubusercontent.com/vmcgee1/SRA268-Spring2020/master/Images/3.png)"
      ]
    },
    {
      "cell_type": "markdown",
      "metadata": {
        "id": "lCAYtfza7yTq",
        "colab_type": "text"
      },
      "source": [
        "#### What is this telling us?"
      ]
    },
    {
      "cell_type": "markdown",
      "metadata": {
        "id": "MyuciD277ygU",
        "colab_type": "text"
      },
      "source": [
        "This graph is showing the sum of winning points for each market in the NCAA. Over a long period of time it is to be assumed the data will all even out to a certain value. This is due to the large number of data points and having good and bad teams in each market. The data is not as skewed as it would be for a shorter chunk of data such as 4 months or even an entire year. This graph would be more useful in said chunk form but we can see now that no one region is leagues among other in the ling run. This is due to bad teams getting better draft picks and being able to eventually spend some time near if not at the top."
      ]
    },
    {
      "cell_type": "markdown",
      "metadata": {
        "id": "dGDGl8-G7y8Y",
        "colab_type": "text"
      },
      "source": [
        "### Distribution\n"
      ]
    },
    {
      "cell_type": "markdown",
      "metadata": {
        "id": "FB0uV-jy76p9",
        "colab_type": "text"
      },
      "source": [
        "![alt text](https://raw.githubusercontent.com/vmcgee1/SRA268-Spring2020/master/Images/4.png)"
      ]
    },
    {
      "cell_type": "markdown",
      "metadata": {
        "id": "_6SOzhrQ76zH",
        "colab_type": "text"
      },
      "source": [
        "#### What is this telling us?"
      ]
    },
    {
      "cell_type": "markdown",
      "metadata": {
        "id": "HBWqsS_g767h",
        "colab_type": "text"
      },
      "source": [
        "This distribution chart shows the total losing points for every team in the losing market. You can see a large difference in the best of the worst and the worst of the worst. Losing a game could be 121-119 or 107-66, this difference in points shows the large size of well-known basketball organizations. Teams such as Duke, LSU, UCLA, and Purdue for example do very well and score high even in their losses. Other teams do not do as well and that is shown by their miniature size on the graph. This graph is another way of showing which teams score better than others."
      ]
    },
    {
      "cell_type": "markdown",
      "metadata": {
        "id": "wQsDThk677Fy",
        "colab_type": "text"
      },
      "source": [
        "### Change over Time\n"
      ]
    },
    {
      "cell_type": "markdown",
      "metadata": {
        "id": "Z1j_YLOA7_OK",
        "colab_type": "text"
      },
      "source": [
        "![alt text](https://raw.githubusercontent.com/vmcgee1/SRA268-Spring2020/master/Images/5.png)"
      ]
    },
    {
      "cell_type": "markdown",
      "metadata": {
        "id": "mpfsmmgi7_Vj",
        "colab_type": "text"
      },
      "source": [
        "#### What is this telling us?"
      ]
    },
    {
      "cell_type": "markdown",
      "metadata": {
        "id": "rYLXoMMO7_di",
        "colab_type": "text"
      },
      "source": [
        "The win seed in the NCCA is the seed of the wining teams. The best(winning) teams have lower seeds as the closer to one you are the better you are. This change over time graph shows one month of game dates, being May of 2015. The win seed is more common to fluctuate at higher percentages as the stats are closer. The best times usually run with the lead and keep hold of the top 5 spots. Change is not as common and that can be seen in this graph. The change over time would be more noticeable over a longer stretch of data."
      ]
    },
    {
      "cell_type": "markdown",
      "metadata": {
        "id": "lFwiHoE-7_jZ",
        "colab_type": "text"
      },
      "source": [
        "### Magnitude\n"
      ]
    },
    {
      "cell_type": "markdown",
      "metadata": {
        "id": "ICQFnXj78EbF",
        "colab_type": "text"
      },
      "source": [
        "![alt text](https://raw.githubusercontent.com/vmcgee1/SRA268-Spring2020/master/Images/6.png)"
      ]
    },
    {
      "cell_type": "markdown",
      "metadata": {
        "id": "QGG7XYG88Eii",
        "colab_type": "text"
      },
      "source": [
        "#### What is this telling us?"
      ]
    },
    {
      "cell_type": "markdown",
      "metadata": {
        "id": "VS7uGa0l8Eos",
        "colab_type": "text"
      },
      "source": [
        "This graph shows the sum of win points for each day of the week. It appears most games are played on Sunday, Thursday, Friday, and Saturday. Because of this it is to be assumed that the most points by winning teams will be scored on these days. This information could be used by advertisers or school staff. Advertisers will want to choose the most populous days to do business to increase exposure and income. School staff will have to take crowd size into consideration when it comes to safety and concession for example. In order, the most important days are Thursday, Friday, Saturday and Sunday."
      ]
    },
    {
      "cell_type": "markdown",
      "metadata": {
        "id": "bEKFxP8R8Evk",
        "colab_type": "text"
      },
      "source": [
        "### Part-to-Whole\n"
      ]
    },
    {
      "cell_type": "markdown",
      "metadata": {
        "id": "WFHlcYKV8E35",
        "colab_type": "text"
      },
      "source": [
        "![link text](https://raw.githubusercontent.com/vmcgee1/SRA268-Spring2020/master/Images/7.png)"
      ]
    },
    {
      "cell_type": "markdown",
      "metadata": {
        "id": "PNSd3wlp8UZH",
        "colab_type": "text"
      },
      "source": [
        "#### What is this telling us?"
      ]
    },
    {
      "cell_type": "markdown",
      "metadata": {
        "id": "y9tb_QRA8aqt",
        "colab_type": "text"
      },
      "source": [
        "This graph is showing the total losing points per losing teams mascot class. It shows that most teams chose Mammals as their mascots. Because of this, the majority of losing teams will have Mammalia mascots. After Mammalia comes Aves, and Null (which represents the schools without classable mascots). This information could be used by a team looking to create or change their new mascot. Either they would not want to be a part of this large Mammalia majority or they may believe correlation is causation. It should be taken into consideration the large Null percentage as not be applicable to the measure. "
      ]
    }
  ]
}