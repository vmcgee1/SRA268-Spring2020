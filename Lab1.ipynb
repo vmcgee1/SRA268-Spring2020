{
  "nbformat": 4,
  "nbformat_minor": 0,
  "metadata": {
    "colab": {
      "name": "Lab1.ipynb",
      "provenance": [],
      "authorship_tag": "ABX9TyN/mXykA9zrKb9R0RiAXIDW",
      "include_colab_link": true
    },
    "kernelspec": {
      "name": "python3",
      "display_name": "Python 3"
    }
  },
  "cells": [
    {
      "cell_type": "markdown",
      "metadata": {
        "id": "view-in-github",
        "colab_type": "text"
      },
      "source": [
        "<a href=\"https://colab.research.google.com/github/vmcgee1/SRA268-Spring2020/blob/master/Lab1.ipynb\" target=\"_parent\"><img src=\"https://colab.research.google.com/assets/colab-badge.svg\" alt=\"Open In Colab\"/></a>"
      ]
    },
    {
      "cell_type": "markdown",
      "metadata": {
        "id": "D6oEFA-kR8lC",
        "colab_type": "text"
      },
      "source": [
        "### State College 2017 Q4 Snow and Rain Comparison"
      ]
    },
    {
      "cell_type": "markdown",
      "metadata": {
        "id": "2FMay8wOSIr5",
        "colab_type": "text"
      },
      "source": [
        "#### Brief Outline"
      ]
    },
    {
      "cell_type": "markdown",
      "metadata": {
        "id": "EK4tcXsSSdOY",
        "colab_type": "text"
      },
      "source": [
        "My sketch, done in Microsoft Paint, takes in to account 92 days from October 1st to December 31st. I chose this subset of data as it is the Fourth Quarter of the year. During this time, I have compared the amount of precipitation in inches with the amount of snow in inches."
      ]
    },
    {
      "cell_type": "markdown",
      "metadata": {
        "id": "b0q6-W3SSiRC",
        "colab_type": "text"
      },
      "source": [
        "#### Sketch\n"
      ]
    },
    {
      "cell_type": "markdown",
      "metadata": {
        "id": "X0kGIm8hSnOU",
        "colab_type": "text"
      },
      "source": [
        "![](https://raw.githubusercontent.com/vmcgee1/SRA268-Spring2020/master/Images/Untitled.png)"
      ]
    },
    {
      "cell_type": "markdown",
      "metadata": {
        "id": "97zZRyPzSsBl",
        "colab_type": "text"
      },
      "source": [
        "#### Conclusions"
      ]
    },
    {
      "cell_type": "markdown",
      "metadata": {
        "id": "F6e7OYTVSz5K",
        "colab_type": "text"
      },
      "source": [
        "My sketch has concluded that in the Fourth Quarter of the year there was a larger amount of rainfall than snowfall. It had not started snowing until halfway through November. In comparison to the rain, when the snow came it usually led to more inches. It also stopped raining as much when it started snowing. "
      ]
    }
  ]
}